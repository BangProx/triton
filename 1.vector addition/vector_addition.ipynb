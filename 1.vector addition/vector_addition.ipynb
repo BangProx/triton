{
 "cells": [
  {
   "cell_type": "markdown",
   "id": "470c53b1",
   "metadata": {},
   "source": [
    "#### 주의사항\n",
    "위 코드는 torch 2.0.1 python 3.9, triton=2.0.0 에서 실행 가능.  \n",
    "\n",
    "다른 환경에서는 실행이 보장되지 않습니다. (잘 되면 상관 x )\n",
    "\n",
    "따라서, print()문을 찍으면서 실험 수행을 원하는 분은 아래 코드로 새로운 환경해서 수행하세요\n",
    "\n",
    "\n",
    "```cmd\n",
    "conda create -n triton201 python=3.10\n",
    "conda activate triton201\n",
    "pip install torch==2.0.1+cu117 -f https://download.pytorch.org/whl/torch_stable.html\n",
    "```"
   ]
  },
  {
   "cell_type": "code",
   "execution_count": 1,
   "id": "94f7b198-8dfa-420f-892c-4bdcc96ffa42",
   "metadata": {},
   "outputs": [],
   "source": [
    "import torch\n",
    "\n",
    "import triton\n",
    "import triton.language as tl\n",
    "\n",
    "\n",
    "@triton.jit\n",
    "def add_kernel(x_ptr,  # *Pointer* to first input vector.\n",
    "               y_ptr,  # *Pointer* to second input vector.\n",
    "               output_ptr,  # *Pointer* to output vector.\n",
    "               n_elements,  # Size of the vector.\n",
    "               BLOCK_SIZE: tl.constexpr,  # Number of elements each program should process.\n",
    "               # NOTE: `constexpr` so it can be used as a shape value.\n",
    "               ):\n",
    "    \n",
    "    print(\"\\n\",\"=\"*30,\"\\n\" + \"Let's Check Arguments of add_Kernel!\\n\")\n",
    "    print(\"x_ptr : \", x_ptr, \"\\n\", \"y_ptr : \", y_ptr, \"\\n\",\n",
    "          \"output_ptr : \", output_ptr, \"\\n\", \"n_elements : \", n_elements, \"\\n\",\n",
    "          \"BLOCK_SIZE : \", BLOCK_SIZE)\n",
    "\n",
    "    # There are multiple 'programs' processing different data. We identify which program\n",
    "    # we are here:\n",
    "    pid = tl.program_id(axis=0)  # We use a 1D launch grid so axis is 0.\n",
    "    print(\"from function add_Kernel pid :\", pid)\n",
    "    \n",
    "    # This program will process inputs that are offset from the initial data.\n",
    "    # For instance, if you had a vector of length 256 and block_size of 64, the programs\n",
    "    # would each access the elements [0:64, 64:128, 128:192, 192:256].\n",
    "    # Note that offsets is a list of pointers:\n",
    "    block_start = pid * BLOCK_SIZE\n",
    "    offsets = block_start + tl.arange(0, BLOCK_SIZE)\n",
    "    print(\"from function add_Kernel BLOCK_SIZE : \",BLOCK_SIZE)\n",
    "    print(\"from function add_Kernel block_start : \", block_start)\n",
    "    \n",
    "    # Create a mask to guard memory operations against out-of-bounds accesses.\n",
    "    mask = offsets < n_elements\n",
    "    print(\"from function add_Kernel mask : \",mask)\n",
    "\n",
    "    # Load x and y from DRAM, masking out any extra elements in case the input is not a\n",
    "    # multiple of the block size.\n",
    "    x = tl.load(x_ptr + offsets, mask=mask)\n",
    "    y = tl.load(y_ptr + offsets, mask=mask)\n",
    "    output = x + y\n",
    "    print(\"from function add_Kernel x : \", x)\n",
    "    print(\"from function add_Kernel y : \", y)\n",
    "    print(\"from function add_Kernel output : \", output)\n",
    "\n",
    "    # Write x + y back to DRAM.\n",
    "    tl.store(output_ptr + offsets, output, mask=mask)"
   ]
  },
  {
   "cell_type": "code",
   "execution_count": 2,
   "id": "8e582dfc",
   "metadata": {},
   "outputs": [],
   "source": [
    "def add(x: torch.Tensor, y: torch.Tensor):\n",
    "    # We need to preallocate the output.\n",
    "    output = torch.empty_like(x)\n",
    "    assert x.is_cuda and y.is_cuda and output.is_cuda\n",
    "    print(\"from function add() output : \", output)\n",
    "    n_elements = output.numel()\n",
    "    print(\"from function add() n_elements : \", n_elements)\n",
    "\n",
    "    # The SPMD launch grid denotes the number of kernel instances that run in parallel.\n",
    "    # It is analogous to CUDA launch grids. It can be either Tuple[int], or Callable(metaparameters) -> Tuple[int].\n",
    "    # In this case, we use a 1D grid where the size is the number of blocks:\n",
    "    grid = lambda meta: (triton.cdiv(n_elements, meta['BLOCK_SIZE']), )\n",
    "    print(\"from function add() grid : \",grid)\n",
    "    \n",
    "    # NOTE:\n",
    "    #  - Each torch.tensor object is implicitly converted into a pointer to its first element.\n",
    "    #  - `triton.jit`'ed functions can be indexed with a launch grid to obtain a callable GPU kernel.\n",
    "    #  - Don't forget to pass meta-parameters as keywords arguments.\n",
    "    add_kernel[grid](x, y, output, n_elements, BLOCK_SIZE=1024)\n",
    "    \n",
    "    # We return a handle to z but, since `torch.cuda.synchronize()` hasn't been called, the kernel is still\n",
    "    # running asynchronously at this point.\n",
    "    return output"
   ]
  },
  {
   "cell_type": "markdown",
   "id": "3b22baa2",
   "metadata": {},
   "source": [
    "#### 주의사항\n",
    "python 3.9, torch 2.2.0, 2.3.0 버전에서는 위 코드로 수행시 print문 오류 발생.\n",
    "\n",
    "따라서 위 코드 사용하려면 3.10, torch 2.0.1 사용 권장. 하지만 triton 2.0.0 버전에는\n",
    "do_bench()의 quantiles 매개변수가 존재 x. \n",
    "\n",
    "따라서, print()문 찍으면서 실험하기 위한\n",
    "가상환경 추가 생성 권장"
   ]
  },
  {
   "cell_type": "code",
   "execution_count": 2,
   "id": "963c4af3",
   "metadata": {},
   "outputs": [],
   "source": [
    "import torch\n",
    "\n",
    "import triton\n",
    "import triton.language as tl\n",
    "\n",
    "\n",
    "@triton.jit\n",
    "def add_kernel(x_ptr,  # *Pointer* to first input vector.\n",
    "               y_ptr,  # *Pointer* to second input vector.\n",
    "               output_ptr,  # *Pointer* to output vector.\n",
    "               n_elements,  # Size of the vector.|\n",
    "               BLOCK_SIZE: tl.constexpr,  # Number of elements each program should process.\n",
    "               # NOTE: `constexpr` so it can be used as a shape value.\n",
    "               ):\n",
    "    # There are multiple 'programs' processing different data. We identify which program\n",
    "    # we are here:\n",
    "    pid = tl.program_id(axis=0)  # We use a 1D launch grid so axis is 0.\n",
    "    # This program will process inputs that are offset from the initial data.\n",
    "    # For instance, if you had a vector of length 256 and block_size of 64, the programs\n",
    "    # would each access the elements [0:64, 64:128, 128:192, 192:256].\n",
    "    # Note that offsets is a list of pointers:\n",
    "    block_start = pid * BLOCK_SIZE\n",
    "    offsets = block_start + tl.arange(0, BLOCK_SIZE)\n",
    "    # Create a mask to guard memory operations against out-of-bounds accesses.\n",
    "    mask = offsets < n_elements\n",
    "    # Load x and y from DRAM, masking out any extra elements in case the input is not a\n",
    "    # multiple of the block size.\n",
    "    x = tl.load(x_ptr + offsets, mask=mask)\n",
    "    y = tl.load(y_ptr + offsets, mask=mask)\n",
    "    output = x + y\n",
    "    # Write x + y back to DRAM.\n",
    "    tl.store(output_ptr + offsets, output, mask=mask)\n",
    "\n",
    "def add(x: torch.Tensor, y: torch.Tensor):\n",
    "    # We need to preallocate the output.\n",
    "    output = torch.empty_like(x)\n",
    "    assert x.is_cuda and y.is_cuda and output.is_cuda\n",
    "    n_elements = output.numel()\n",
    "    # The SPMD launch grid denotes the number of kernel instances that run in parallel.\n",
    "    # It is analogous to CUDA launch grids. It can be either Tuple[int], or Callable(metaparameters) -> Tuple[int].\n",
    "    # In this case, we use a 1D grid where the size is the number of blocks:\n",
    "    grid = lambda meta: (triton.cdiv(n_elements, meta['BLOCK_SIZE']), )\n",
    "    # NOTE:\n",
    "    #  - Each torch.tensor object is implicitly converted into a pointer to its first element.\n",
    "    #  - `triton.jit`'ed functions can be indexed with a launch grid to obtain a callable GPU kernel.\n",
    "    #  - Don't forget to pass meta-parameters as keywords arguments.\n",
    "    add_kernel[grid](x, y, output, n_elements, BLOCK_SIZE=1024)\n",
    "    # We return a handle to z but, since `torch.cuda.synchronize()` hasn't been called, the kernel is still\n",
    "    # running asynchronously at this point.\n",
    "    return output\n"
   ]
  },
  {
   "cell_type": "code",
   "execution_count": 3,
   "id": "3b45f094",
   "metadata": {},
   "outputs": [
    {
     "name": "stdout",
     "output_type": "stream",
     "text": [
      "tensor([1.3713, 1.3076, 0.4940,  ..., 0.6724, 1.2141, 0.9733], device='cuda:0')\n",
      "tensor([1.3713, 1.3076, 0.4940,  ..., 0.6724, 1.2141, 0.9733], device='cuda:0')\n",
      "The maximum difference between torch and triton is 0.0\n"
     ]
    }
   ],
   "source": [
    "torch.manual_seed(0)\n",
    "\n",
    "size = 98432\n",
    "x = torch.rand(size, device = 'cuda')\n",
    "y = torch.rand(size, device = 'cuda')\n",
    "\n",
    "output_torch = x + y\n",
    "output_triton = add(x,y)\n",
    "print(output_torch)\n",
    "print(output_triton)\n",
    "print(f'The maximum difference between torch and triton is '\n",
    "      f'{torch.max(torch.abs(output_torch - output_triton))}')"
   ]
  },
  {
   "cell_type": "markdown",
   "id": "c2dc305c",
   "metadata": {},
   "source": [
    "# Benchmark"
   ]
  },
  {
   "cell_type": "code",
   "execution_count": 4,
   "id": "3294297e-e300-49ad-ac8d-a68b23e6df53",
   "metadata": {},
   "outputs": [],
   "source": [
    "@triton.testing.perf_report(\n",
    "    triton.testing.Benchmark(\n",
    "        x_names=['size'],  # Argument names to use as an x-axis for the plot.\n",
    "        x_vals=[2**i for i in range(12, 28, 1)],  # Different possible values for `x_name`.\n",
    "        x_log=True,  # x axis is logarithmic.\n",
    "        line_arg='provider',  # Argument name whose value corresponds to a different line in the plot.\n",
    "        line_vals=['triton', 'torch'],  # Possible values for `line_arg`.\n",
    "        line_names=['Triton', 'Torch'],  # Label name for the lines.\n",
    "        styles=[('blue', '-'), ('green', '-')],  # Line styles.\n",
    "        ylabel='GB/s',  # Label name for the y-axis.\n",
    "        plot_name='vector-add-performance',  # Name for the plot. Used also as a file name for saving the plot.\n",
    "        args={},  # Values for function arguments not in `x_names` and `y_name`.\n",
    "    ))\n",
    "\n",
    "def benchmark(size, provider):\n",
    "    x = torch.rand(size, device='cuda', dtype=torch.float32)\n",
    "    y = torch.rand(size, device='cuda', dtype=torch.float32)\n",
    "    quantiles = [0.5, 0.2, 0.8]\n",
    "    if provider == 'torch':\n",
    "        ms, min_ms, max_ms = triton.testing.do_bench(lambda: x + y, quantiles=quantiles)\n",
    "    if provider == 'triton':\n",
    "        ms, min_ms, max_ms = triton.testing.do_bench(lambda: add(x, y), quantiles=quantiles)\n",
    "    gbps = lambda ms: 12 * size / ms * 1e-6\n",
    "    return gbps(ms), gbps(max_ms), gbps(min_ms)"
   ]
  },
  {
   "cell_type": "code",
   "execution_count": 5,
   "id": "5200453c-235a-4fe5-9fe0-66349e5bf5d1",
   "metadata": {},
   "outputs": [
    {
     "data": {
      "image/png": "[encoded data removed]",
      "text/plain": [
       "<Figure size 640x480 with 1 Axes>"
      ]
     },
     "metadata": {},
     "output_type": "display_data"
    },
    {
     "name": "stdout",
     "output_type": "stream",
     "text": [
      "vector-add-performance:\n",
      "           size      Triton       Torch\n",
      "0        4096.0   12.000000   12.000000\n",
      "1        8192.0   24.000000   24.000000\n",
      "2       16384.0   48.000000   48.000000\n",
      "3       32768.0   79.277419   96.000000\n",
      "4       65536.0  153.600004  153.600004\n",
      "5      131072.0  255.999991  255.999991\n",
      "6      262144.0  384.000001  384.000001\n",
      "7      524288.0  511.999982  518.754611\n",
      "8     1048576.0  686.240841  646.736871\n",
      "9     2097152.0  722.823517  771.011790\n",
      "10    4194304.0  792.774204  805.770507\n",
      "11    8388608.0  840.205105  862.315773\n",
      "12   16777216.0  885.621612  893.672720\n",
      "13   33554432.0  906.027677  912.234884\n",
      "14   67108864.0  915.520350  918.728973\n",
      "15  134217728.0  919.114845  921.420057\n"
     ]
    }
   ],
   "source": [
    "benchmark.run(print_data=True, show_plots=True)"
   ]
  }
 ],
 "metadata": {
  "kernelspec": {
   "display_name": "Python 3 (ipykernel)",
   "language": "python",
   "name": "python3"
  },
  "language_info": {
   "codemirror_mode": {
    "name": "ipython",
    "version": 3
   },
   "file_extension": ".py",
   "mimetype": "text/x-python",
   "name": "python",
   "nbconvert_exporter": "python",
   "pygments_lexer": "ipython3",
   "version": "3.9.19"
  }
 },
 "nbformat": 4,
 "nbformat_minor": 5
}

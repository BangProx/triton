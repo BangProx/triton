{
 "cells": [
  {
   "cell_type": "code",
   "execution_count": 2,
   "metadata": {},
   "outputs": [],
   "source": [
    "import torch\n",
    "import torch.nn as nn"
   ]
  },
  {
   "cell_type": "code",
   "execution_count": 3,
   "metadata": {},
   "outputs": [
    {
     "name": "stdout",
     "output_type": "stream",
     "text": [
      "4\n"
     ]
    }
   ],
   "source": [
    "# 예시 설정\n",
    "batch_size = 2\n",
    "seq_length = 4\n",
    "embedding_dim = 12\n",
    "n_heads = 3\n",
    "head_dim = embedding_dim // n_heads\n",
    "print(head_dim)\n"
   ]
  },
  {
   "cell_type": "markdown",
   "metadata": {},
   "source": [
    "`head_dim = embedding_dim // n_heads` 이렇게 하는 이유는 멀티헤드 어텐션에서 헤드의 개수 만큼 병렬처리를 하기 때문이다. \n",
    "\n",
    "즉, 헤드 하나당 몇개의 차원을 처리하는지, 다른 말로하면 헤드에 입력되는 값의 차원이다."
   ]
  },
  {
   "cell_type": "code",
   "execution_count": 7,
   "metadata": {},
   "outputs": [
    {
     "name": "stdout",
     "output_type": "stream",
     "text": [
      "qkv=tensor([[[ 5.2838e-01, -1.5490e-01,  5.7176e-01, -1.6544e+00, -1.5159e-01,\n",
      "          -2.7171e-01, -1.6250e-01,  9.3888e-01,  2.6249e-01,  6.8673e-01,\n",
      "          -2.1303e-01, -1.3658e+00, -4.1193e-01, -8.5406e-02,  2.0334e-01,\n",
      "           6.4871e-01, -3.4274e-01, -5.3867e-01,  4.4376e-01, -3.5386e-01,\n",
      "           3.1170e-01,  1.3248e-02, -7.1206e-01, -8.6883e-01,  9.5513e-02,\n",
      "          -4.1501e-01, -4.0607e-01,  8.9568e-01,  3.0607e-01, -3.0563e-01,\n",
      "          -2.5891e-01,  7.1575e-01, -2.5030e-01,  5.2931e-01, -4.8256e-02,\n",
      "           5.2490e-01],\n",
      "         [-7.3566e-01,  9.3650e-02, -1.0324e+00,  8.8233e-01, -3.2372e-01,\n",
      "           2.1527e-01,  1.4368e+00, -1.9465e-01, -1.5236e+00,  3.9447e-02,\n",
      "           3.3696e-01, -3.0579e-01, -3.4733e-01, -2.8616e-01, -1.0377e+00,\n",
      "           7.3980e-01,  3.0052e-01,  8.5412e-02,  1.6374e-01, -7.9418e-02,\n",
      "           2.3342e-01, -4.3247e-02,  1.0802e+00, -9.2421e-01,  1.4527e+00,\n",
      "           8.8566e-01,  4.5180e-01, -1.2729e+00, -3.5870e-01, -3.9877e-01,\n",
      "          -4.3372e-01, -1.8616e+00,  1.3539e-01,  9.3116e-01, -6.6522e-01,\n",
      "           6.2187e-01],\n",
      "         [-7.6622e-02,  1.7750e-01,  2.3321e-01, -9.1993e-01, -1.2576e-01,\n",
      "          -1.1475e+00,  7.5310e-02, -6.8203e-01, -3.4137e-01,  1.4982e-01,\n",
      "          -2.6992e-01,  4.6514e-01, -1.6322e+00,  9.5892e-01, -6.1843e-01,\n",
      "           4.5964e-01, -1.0937e-01, -3.2946e-01, -6.5560e-01, -4.8976e-01,\n",
      "           1.5212e+00,  6.7028e-01,  4.6471e-01, -3.3123e-01,  1.0817e+00,\n",
      "          -7.0761e-01, -8.8667e-01,  3.4332e-01,  4.9575e-01, -5.9441e-01,\n",
      "          -6.7867e-01,  2.3581e-01,  1.0382e+00,  1.7858e-01, -8.6226e-01,\n",
      "           2.4431e-01],\n",
      "         [-1.0775e+00, -4.6570e-01,  6.5583e-01, -5.3195e-01, -9.1369e-02,\n",
      "          -3.3054e-04, -9.5532e-01, -4.6445e-01,  8.8507e-01, -9.7719e-01,\n",
      "          -3.1278e-02,  1.7205e-01, -1.2762e-01,  3.8811e-01, -4.0307e-01,\n",
      "          -1.5237e-01,  4.2105e-01, -4.3486e-01,  7.4403e-03,  4.9050e-01,\n",
      "           1.4773e-01,  1.2744e+00, -7.7296e-01, -9.9294e-03, -9.0153e-01,\n",
      "          -1.5497e+00, -6.3962e-01,  1.0098e+00,  9.8498e-01, -9.0720e-01,\n",
      "          -4.2650e-02,  4.4305e-01,  3.6001e-01, -2.9530e-01, -4.6364e-01,\n",
      "          -1.6007e+00]],\n",
      "\n",
      "        [[-7.4100e-01, -6.5052e-01, -5.1141e-01,  1.3324e+00,  2.5657e-01,\n",
      "           3.4510e-01, -2.1898e-01, -2.2932e-01, -6.9045e-01, -1.0070e+00,\n",
      "           9.3537e-02,  8.0760e-01,  4.5243e-01,  1.0046e+00, -6.3765e-01,\n",
      "           8.3309e-02,  7.6867e-01,  4.0381e-01, -3.1357e-01,  1.9186e+00,\n",
      "          -9.4807e-01,  7.1746e-01, -3.4018e-01,  9.9916e-01, -8.3054e-01,\n",
      "          -1.9012e-01,  1.2378e-02, -4.7021e-02,  5.3133e-01,  5.8385e-02,\n",
      "           8.8795e-01, -1.0923e+00,  1.5559e+00, -6.6247e-02, -8.0823e-01,\n",
      "          -6.6506e-01],\n",
      "         [-4.3072e-01,  4.6474e-01, -7.0238e-01,  1.9281e-01,  7.7609e-01,\n",
      "           2.8505e-01,  8.3883e-01,  6.2610e-02, -8.0237e-01,  1.9825e-01,\n",
      "           2.8284e-02, -9.2348e-01, -5.4381e-01, -9.2571e-01, -1.0542e+00,\n",
      "           4.9242e-01,  1.5706e-01,  1.3678e+00,  6.8812e-01,  8.3637e-01,\n",
      "          -2.2213e-01, -2.0727e-01, -1.6102e-02,  2.5248e-01,  1.6135e-01,\n",
      "           5.1342e-01, -1.2253e-01, -4.2430e-01,  3.0498e-01,  4.6247e-01,\n",
      "          -1.0586e+00, -6.4620e-01, -2.1502e-01,  9.1845e-01, -7.0335e-01,\n",
      "           2.8440e-01],\n",
      "         [ 3.6604e-01,  3.5950e-01,  1.0706e-01, -4.3357e-01,  6.0997e-01,\n",
      "           7.6528e-01,  1.9945e-01,  2.2705e-01,  8.6521e-01, -3.5928e-01,\n",
      "          -3.2275e-01, -1.0682e+00,  6.4426e-01, -5.4433e-01,  4.9055e-01,\n",
      "           2.9197e-01,  4.7942e-02, -5.4076e-01,  7.6512e-01,  2.9077e-01,\n",
      "          -1.1447e+00,  6.1515e-01, -4.7856e-01, -8.6914e-01, -4.1858e-02,\n",
      "           9.5727e-01,  4.7069e-01, -4.6191e-01, -3.2461e-01, -1.4490e-01,\n",
      "           7.5203e-01, -3.5918e-01, -1.8653e-01, -2.1697e-01,  1.5273e-01,\n",
      "          -1.2591e-01],\n",
      "         [ 3.3535e-01,  8.4652e-01, -1.0933e+00,  8.3041e-02,  9.2400e-01,\n",
      "           6.9811e-01,  1.0174e+00,  4.0136e-01,  6.2008e-01, -1.1001e-01,\n",
      "           2.6228e-01, -8.6628e-01,  6.3332e-01,  7.8207e-02,  5.7044e-01,\n",
      "          -1.3451e-01,  6.0016e-01, -1.3373e-02,  7.5141e-01,  2.9748e-01,\n",
      "          -9.3182e-01,  4.0482e-02, -8.9071e-01, -5.0709e-01,  1.1575e+00,\n",
      "           7.0233e-01,  9.2024e-04, -5.7176e-01, -7.4000e-01,  3.7103e-02,\n",
      "           9.0768e-01, -2.1755e-01,  2.8490e-01,  3.7966e-01,  3.4929e-01,\n",
      "           8.5642e-01]]], grad_fn=<ViewBackward0>)\n",
      "qkv.shape=torch.Size([2, 4, 36])\n"
     ]
    }
   ],
   "source": [
    "# 가상의 입력 텐서 (batch_size, seq_length, embedding_dim)\n",
    "x = torch.randn(batch_size, seq_length, embedding_dim)\n",
    "\n",
    "# 선형 레이어 정의 (embedding_dim -> 3 * embedding_dim)\n",
    "c_attn = nn.Linear(embedding_dim, 3 * embedding_dim)\n",
    "\n",
    "# 선형 변환 적용\n",
    "qkv = c_attn(x)  # 결과는 (batch_size, seq_length, 3 * embedding_dim)\n",
    "print(f\"{qkv=}\")\n",
    "print(f\"{qkv.shape=}\")"
   ]
  },
  {
   "attachments": {
    "image.png": {
     "image/png": "[encoded data removed]"
    }
   },
   "cell_type": "markdown",
   "metadata": {},
   "source": [
    "위 예제에서는 qkv의 차원 (batch_size, seq_length, 3 * embedding_dim)이기 때문에, 이 텐서를 마지막 차원에서 embedding_dim씩 나누어 q, k, v로 분할한다.\n",
    "\n",
    "따라서 각 부분의 형태는 (batch_size, seq_length, embedding_dim)\n",
    "\n",
    "36짜리가 4개있는 배치가 2개인거다.\n",
    "첫번째 배치\n",
    "[[1,2, ... 36], [1,2, ... 36], [1,2, ... 36], [1,2, ... 36]]\n",
    "\n",
    "두번째 배치 \n",
    "[[1,2, ... 36], [1,2, ... 36], [1,2, ... 36], [1,2, ... 36]]\n",
    "\n",
    "![image.png](attachment:image.png)\n",
    "\n",
    "### 예시\n",
    "훈련 데이터가 아래와 같은 2D 텐서 (4 x 3 데이터) 라고 하자.\n",
    "\n",
    "```plain text\n",
    "[['나는', '사과를', '좋아해'], \n",
    "['나는', '바나나를', '좋아해'], \n",
    "['나는', '사과를', '싫어해'], \n",
    "['나는', '바나나를', '싫어해']]\n",
    "```\n",
    "\n",
    "위 자연어를 3차원 벡터로 변환했다고 하자.\n",
    "```plain text\n",
    "'나는' = [0.1, 0.2, 0.9 , 0.3]\n",
    "'사과를' = [0.3, 0.5, 0.1 , 0.3]\n",
    "'바나나를' = [0.3, 0.5, 0.2 , 0.3]\n",
    "'좋아해' = [0.7, 0.6, 0.5 , 0.3]\n",
    "'싫어해' = [0.5, 0.6, 0.7 , 0.3]\n",
    "```\n",
    "훈련 데이터는 이제 아래와 같이 4 × 3 × 4의 크기를 가지는 3D 텐서로 변환되었다. \n",
    "```plain text\n",
    "[[[0.1, 0.2, 0.9 , 0.3], [0.3, 0.5, 0.1 , 0.3], [0.7, 0.6, 0.5 , 0.3]],\n",
    " [[0.1, 0.2, 0.9 , 0.3], [0.3, 0.5, 0.2 , 0.3], [0.7, 0.6, 0.5 , 0.3]],\n",
    " [[0.1, 0.2, 0.9 , 0.3], [0.3, 0.5, 0.1 , 0.3], [0.5, 0.6, 0.7 , 0.3]],\n",
    " [[0.1, 0.2, 0.9 , 0.3], [0.3, 0.5, 0.2 , 0.3], [0.5, 0.6, 0.7 , 0.3]]]\n",
    "```\n",
    "위 데이터를 batch size 2로 재구성하면 아래와 같다.\n",
    "```plain text\n",
    "첫번째 배치 : \n",
    "[[[0.1, 0.2, 0.9 , 0.3], [0.3, 0.5, 0.1 , 0.3], [0.7, 0.6, 0.5 , 0.3]],\n",
    " [[0.1, 0.2, 0.9 , 0.3], [0.3, 0.5, 0.2 , 0.3], [0.7, 0.6, 0.5 , 0.3]]]\n",
    "두번째 배치 : \n",
    "[[[0.1, 0.2, 0.9 , 0.3], [0.3, 0.5, 0.1 , 0.3], [0.5, 0.6, 0.7 , 0.3]],\n",
    " [[0.1, 0.2, 0.9 , 0.3], [0.3, 0.5, 0.2 , 0.3], [0.5, 0.6, 0.7 , 0.3]]]\n",
    "```\n",
    "각 batch의 차원은 2 x 3 x 4 이다. 각각 batch size = 2, sequence length = 3, dimension = 4\n",
    "\n",
    "\n",
    "참고 자료 : https://wikidocs.net/52460"
   ]
  },
  {
   "cell_type": "code",
   "execution_count": null,
   "metadata": {},
   "outputs": [],
   "source": [
    "# Query, Key, Value로 나누기\n",
    "q, k, v = qkv.split(embedding_dim, dim=2)"
   ]
  },
  {
   "cell_type": "code",
   "execution_count": null,
   "metadata": {},
   "outputs": [],
   "source": [
    "\n",
    "print(q.shape)  # (batch_size, seq_length, embedding_dim)\n",
    "print(k.shape)  # (batch_size, seq_length, embedding_dim)\n",
    "print(v.shape)  # (batch_size, seq_length, embedding_dim)"
   ]
  }
 ],
 "metadata": {
  "kernelspec": {
   "display_name": "triton230",
   "language": "python",
   "name": "python3"
  },
  "language_info": {
   "codemirror_mode": {
    "name": "ipython",
    "version": 3
   },
   "file_extension": ".py",
   "mimetype": "text/x-python",
   "name": "python",
   "nbconvert_exporter": "python",
   "pygments_lexer": "ipython3",
   "version": "3.10.14"
  }
 },
 "nbformat": 4,
 "nbformat_minor": 2
}
